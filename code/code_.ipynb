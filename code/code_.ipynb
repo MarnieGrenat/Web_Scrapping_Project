{
 "cells": [
  {
   "attachments": {},
   "cell_type": "markdown",
   "metadata": {},
   "source": [
    "# Desenvolvimento do trabalho de CPA \n",
    "## Author: Gabriela Dellamora Paim\n",
    "## Version: 23.03.27"
   ]
  },
  {
   "attachments": {},
   "cell_type": "markdown",
   "metadata": {},
   "source": [
    "# Imports"
   ]
  },
  {
   "cell_type": "code",
   "execution_count": 38,
   "metadata": {},
   "outputs": [],
   "source": [
    "# IMPORTS\n",
    "# Requisições HTTP\n",
    "import requests \n",
    "import re\n",
    "from bs4 import BeautifulSoup"
   ]
  },
  {
   "cell_type": "code",
   "execution_count": 58,
   "metadata": {},
   "outputs": [],
   "source": [
    "#arrays\n",
    "list_names=[]\n",
    "list_infos=[]\n",
    "# matriz pandas"
   ]
  },
  {
   "cell_type": "code",
   "execution_count": 53,
   "metadata": {},
   "outputs": [
    {
     "data": {
      "text/plain": [
       "252"
      ]
     },
     "execution_count": 53,
     "metadata": {},
     "output_type": "execute_result"
    }
   ],
   "source": [
    "sitemap=r'http://127.0.0.1:8000/places/default/sitemap.xml'\n",
    "response = requests.get(url=sitemap)\n",
    "xml=response.content.decode()\n",
    "list_of_url=re.findall(r'<loc>(.*?)<', xml) #list of URLs\n",
    "\n",
    "len(list_of_url)"
   ]
  },
  {
   "cell_type": "code",
   "execution_count": 55,
   "metadata": {},
   "outputs": [],
   "source": [
    "list_names.append(soup.table.text[:15])\n",
    "for url in list_of_url:\n",
    "    response=requests.get(url=url)\n",
    "    site=response.content.decode()\n",
    "    soup= BeautifulSoup(site)\n",
    "    image = soup.find('img')"
   ]
  },
  {
   "cell_type": "code",
   "execution_count": 63,
   "metadata": {},
   "outputs": [
    {
     "data": {
      "text/plain": [
       "[<tr id=\"places_national_flag__row\"><td class=\"w2p_fl\"><label class=\"readonly\" for=\"places_national_flag\" id=\"places_national_flag__label\">National Flag: </label></td><td class=\"w2p_fw\"><img src=\"/places/static/images/flags/zw.png\"/></td><td class=\"w2p_fc\"></td></tr>,\n",
       " <tr id=\"places_area__row\"><td class=\"w2p_fl\"><label class=\"readonly\" for=\"places_area\" id=\"places_area__label\">Area: </label></td><td class=\"w2p_fw\">390580 square kilometres</td><td class=\"w2p_fc\"></td></tr>,\n",
       " <tr id=\"places_population__row\"><td class=\"w2p_fl\"><label class=\"readonly\" for=\"places_population\" id=\"places_population__label\">Population: </label></td><td class=\"w2p_fw\">11651858</td><td class=\"w2p_fc\"></td></tr>,\n",
       " <tr id=\"places_iso__row\"><td class=\"w2p_fl\"><label class=\"readonly\" for=\"places_iso\" id=\"places_iso__label\">Iso: </label></td><td class=\"w2p_fw\">ZW</td><td class=\"w2p_fc\"></td></tr>,\n",
       " <tr id=\"places_country__row\"><td class=\"w2p_fl\"><label class=\"readonly\" for=\"places_country\" id=\"places_country__label\">Country: </label></td><td class=\"w2p_fw\">Zimbabwe</td><td class=\"w2p_fc\"></td></tr>,\n",
       " <tr id=\"places_capital__row\"><td class=\"w2p_fl\"><label class=\"readonly\" for=\"places_capital\" id=\"places_capital__label\">Capital: </label></td><td class=\"w2p_fw\">Harare</td><td class=\"w2p_fc\"></td></tr>,\n",
       " <tr id=\"places_continent__row\"><td class=\"w2p_fl\"><label class=\"readonly\" for=\"places_continent\" id=\"places_continent__label\">Continent: </label></td><td class=\"w2p_fw\"><a href=\"/places/default/continent/AF\">AF</a></td><td class=\"w2p_fc\"></td></tr>,\n",
       " <tr id=\"places_tld__row\"><td class=\"w2p_fl\"><label class=\"readonly\" for=\"places_tld\" id=\"places_tld__label\">Tld: </label></td><td class=\"w2p_fw\">.zw</td><td class=\"w2p_fc\"></td></tr>,\n",
       " <tr id=\"places_currency_code__row\"><td class=\"w2p_fl\"><label class=\"readonly\" for=\"places_currency_code\" id=\"places_currency_code__label\">Currency Code: </label></td><td class=\"w2p_fw\">ZWL</td><td class=\"w2p_fc\"></td></tr>,\n",
       " <tr id=\"places_currency_name__row\"><td class=\"w2p_fl\"><label class=\"readonly\" for=\"places_currency_name\" id=\"places_currency_name__label\">Currency Name: </label></td><td class=\"w2p_fw\">Dollar</td><td class=\"w2p_fc\"></td></tr>,\n",
       " <tr id=\"places_phone__row\"><td class=\"w2p_fl\"><label class=\"readonly\" for=\"places_phone\" id=\"places_phone__label\">Phone: </label></td><td class=\"w2p_fw\">263</td><td class=\"w2p_fc\"></td></tr>,\n",
       " <tr id=\"places_postal_code_format__row\"><td class=\"w2p_fl\"><label class=\"readonly\" for=\"places_postal_code_format\" id=\"places_postal_code_format__label\">Postal Code Format: </label></td><td class=\"w2p_fw\"></td><td class=\"w2p_fc\"></td></tr>,\n",
       " <tr id=\"places_postal_code_regex__row\"><td class=\"w2p_fl\"><label class=\"readonly\" for=\"places_postal_code_regex\" id=\"places_postal_code_regex__label\">Postal Code Regex: </label></td><td class=\"w2p_fw\"></td><td class=\"w2p_fc\"></td></tr>,\n",
       " <tr id=\"places_languages__row\"><td class=\"w2p_fl\"><label class=\"readonly\" for=\"places_languages\" id=\"places_languages__label\">Languages: </label></td><td class=\"w2p_fw\">en-ZW,sn,nr,nd</td><td class=\"w2p_fc\"></td></tr>,\n",
       " <tr id=\"places_neighbours__row\"><td class=\"w2p_fl\"><label class=\"readonly\" for=\"places_neighbours\" id=\"places_neighbours__label\">Neighbours: </label></td><td class=\"w2p_fw\"><div><a href=\"/places/default/iso/ZA\">ZA </a><a href=\"/places/default/iso/MZ\">MZ </a><a href=\"/places/default/iso/BW\">BW </a><a href=\"/places/default/iso/ZM\">ZM </a></div></td><td class=\"w2p_fc\"></td></tr>]"
      ]
     },
     "execution_count": 63,
     "metadata": {},
     "output_type": "execute_result"
    }
   ],
   "source": [
    "response=requests.get(url=url)\n",
    "site=response.content.decode()\n",
    "soup= BeautifulSoup(site)\n",
    "image = soup.find('img')\n",
    "soup.findAll('tr')"
   ]
  },
  {
   "cell_type": "code",
   "execution_count": 56,
   "metadata": {},
   "outputs": [
    {
     "name": "stdout",
     "output_type": "stream",
     "text": [
      "['National Flag: ', 'National Flag: ', 'National Flag: ', 'National Flag: ', 'National Flag: ']\n"
     ]
    }
   ],
   "source": []
  },
  {
   "cell_type": "code",
   "execution_count": null,
   "metadata": {},
   "outputs": [],
   "source": []
  }
 ],
 "metadata": {
  "kernelspec": {
   "display_name": "cpa",
   "language": "python",
   "name": "python3"
  },
  "language_info": {
   "codemirror_mode": {
    "name": "ipython",
    "version": 3
   },
   "file_extension": ".py",
   "mimetype": "text/x-python",
   "name": "python",
   "nbconvert_exporter": "python",
   "pygments_lexer": "ipython3",
   "version": "3.9.16"
  },
  "orig_nbformat": 4,
  "vscode": {
   "interpreter": {
    "hash": "0fe4cc43e60eb6a51a076301010f33b45f25eae61cdfa03646463cdd2b225715"
   }
  }
 },
 "nbformat": 4,
 "nbformat_minor": 2
}
