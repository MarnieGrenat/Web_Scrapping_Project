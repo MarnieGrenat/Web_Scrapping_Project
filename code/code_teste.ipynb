{
 "cells": [
  {
   "attachments": {},
   "cell_type": "markdown",
   "metadata": {},
   "source": [
    "# Teste do dia 23.03.2022 \n",
    "\n",
    "Ir no site e pegar conteudo = requests (crawler)\n",
    "Ir no conteúdo e pegar info = bst (scrap)"
   ]
  },
  {
   "cell_type": "code",
   "execution_count": 1,
   "metadata": {},
   "outputs": [],
   "source": [
    "var=\"\"\"\n",
    "<html>\n",
    "    <head>\n",
    "\n",
    "    </head>\n",
    "    <body>\n",
    "        <h1 class=\"lucas joao\" id=\"cpa\">Título com a tag h1</h1>\n",
    "        <!-- Atributo classe com 2 valores entre aspas duplas e separados por espaço-->\n",
    "        <p>Esse é um parágrafo muito <i>legal</i></p>\n",
    "    </body>\n",
    "</html>\n",
    "\"\"\""
   ]
  },
  {
   "cell_type": "code",
   "execution_count": 2,
   "metadata": {},
   "outputs": [],
   "source": [
    "html=''\n",
    "with open('teste.html', 'r') as file:\n",
    "    arquivo= file.readlines()\n",
    "    html= ''.join(arquivo)"
   ]
  },
  {
   "cell_type": "code",
   "execution_count": 3,
   "metadata": {},
   "outputs": [],
   "source": [
    "# Imports\n",
    "from bs4 import BeautifulSoup"
   ]
  },
  {
   "cell_type": "code",
   "execution_count": 4,
   "metadata": {},
   "outputs": [
    {
     "name": "stdout",
     "output_type": "stream",
     "text": [
      "<html>\n",
      " <head>\n",
      " </head>\n",
      " <body>\n",
      "  <h1 class=\"lucas joao\" id=\"cpa\">\n",
      "   Título com a tag h1\n",
      "  </h1>\n",
      "  <!-- Atributo classe com 2 valores entre aspas duplas e separados por espaço-->\n",
      "  <p id=\"primeiro\">\n",
      "   Esse é um parágrafo muito\n",
      "   <i>\n",
      "    legal\n",
      "   </i>\n",
      "  </p>\n",
      "  <p id=\"segundo\">\n",
      "   Esse é o segundo parágrafo\n",
      "  </p>\n",
      "  <p id=\"banana\">\n",
      "   Esse é o último parágrafo\n",
      "  </p>\n",
      " </body>\n",
      "</html>\n"
     ]
    }
   ],
   "source": [
    "soup = BeautifulSoup(html, 'html5lib')\n",
    "print(soup.prettify())\n",
    "# Utilizar o objeto soup para acessar a tag <p>"
   ]
  },
  {
   "cell_type": "code",
   "execution_count": 5,
   "metadata": {},
   "outputs": [
    {
     "data": {
      "text/plain": [
       "'Esse é um parágrafo muito legal'"
      ]
     },
     "execution_count": 5,
     "metadata": {},
     "output_type": "execute_result"
    }
   ],
   "source": [
    "soup.html.body.p\n",
    "soup.body.p # Mesma coisa\n",
    "soup.body.p.text"
   ]
  },
  {
   "cell_type": "code",
   "execution_count": 6,
   "metadata": {},
   "outputs": [
    {
     "data": {
      "text/plain": [
       "['Esse é um parágrafo muito ', <i>legal</i>]"
      ]
     },
     "execution_count": 6,
     "metadata": {},
     "output_type": "execute_result"
    }
   ],
   "source": [
    "soup.body.p.content # Não funciona\n",
    "soup.body.p.contents"
   ]
  },
  {
   "cell_type": "code",
   "execution_count": 7,
   "metadata": {},
   "outputs": [],
   "source": [
    "# QUANDO TIVER MAIS DE UMA TAG IGUAL, USAR FIND OU FINDALL, NÃO\n",
    "# ITERAÇÃO POR ATRIBUTO\n"
   ]
  },
  {
   "cell_type": "code",
   "execution_count": 8,
   "metadata": {},
   "outputs": [
    {
     "data": {
      "text/plain": [
       "[<p id=\"banana\">Esse é o último parágrafo</p>]"
      ]
     },
     "execution_count": 8,
     "metadata": {},
     "output_type": "execute_result"
    }
   ],
   "source": [
    "soup.findAll('p')\n",
    "soup.findAll(id='banana')\n"
   ]
  },
  {
   "cell_type": "code",
   "execution_count": 9,
   "metadata": {},
   "outputs": [],
   "source": [
    "def tem_palavra_muito(t):\n",
    "    return (t.name == 'p') and ('muito' in t.text)"
   ]
  },
  {
   "cell_type": "code",
   "execution_count": 10,
   "metadata": {},
   "outputs": [
    {
     "data": {
      "text/plain": [
       "[<p id=\"primeiro\">Esse é um parágrafo muito <i>legal</i></p>]"
      ]
     },
     "execution_count": 10,
     "metadata": {},
     "output_type": "execute_result"
    }
   ],
   "source": [
    "# Seletor de ID\n",
    "soup.select('#primeiro') # o # é usado pra ele procurar apenas ID"
   ]
  },
  {
   "cell_type": "code",
   "execution_count": 12,
   "metadata": {},
   "outputs": [
    {
     "data": {
      "text/plain": [
       "[<h1 class=\"lucas joao\" id=\"cpa\">Título com a tag h1</h1>]"
      ]
     },
     "execution_count": 12,
     "metadata": {},
     "output_type": "execute_result"
    }
   ],
   "source": [
    "# Seletor de CLASSE\n",
    "soup.select('.joao') # o . é usado para ele procurar apenas a CLASSE"
   ]
  },
  {
   "cell_type": "markdown",
   "metadata": {},
   "source": [
    "# SELENIUM "
   ]
  },
  {
   "cell_type": "code",
   "execution_count": 1,
   "metadata": {},
   "outputs": [],
   "source": [
    "from selenium.webdriver.chrome.service import Service\n",
    "from selenium import webdriver\n",
    "\n",
    "service = Service(executable_path=\"..\\driver_chrome\\chromedriver\")\n",
    "driver = webdriver.Chrome(service=service)"
   ]
  },
  {
   "cell_type": "code",
   "execution_count": null,
   "metadata": {},
   "outputs": [],
   "source": []
  }
 ],
 "metadata": {
  "kernelspec": {
   "display_name": "cpa",
   "language": "python",
   "name": "python3"
  },
  "language_info": {
   "codemirror_mode": {
    "name": "ipython",
    "version": 3
   },
   "file_extension": ".py",
   "mimetype": "text/x-python",
   "name": "python",
   "nbconvert_exporter": "python",
   "pygments_lexer": "ipython3",
   "version": "3.10.9"
  },
  "orig_nbformat": 4
 },
 "nbformat": 4,
 "nbformat_minor": 2
}
