{
 "cells": [
  {
   "cell_type": "markdown",
   "metadata": {},
   "source": [
    "# Desenvolvimento do trabalho de CPA \n",
    "## Author: Gabriela Dellamora Paim\n",
    "## Version: 23.03.15"
   ]
  },
  {
   "cell_type": "code",
   "execution_count": 4,
   "metadata": {},
   "outputs": [],
   "source": [
    "# IMPORTS\n",
    "import requests # Requisições HTTP\n",
    "import re\n",
    "from bs4 import BeautifulSoup"
   ]
  },
  {
   "cell_type": "code",
   "execution_count": 2,
   "metadata": {},
   "outputs": [
    {
     "data": {
      "text/plain": [
       "['http://127.0.0.1:8000/places/default/view/Afghanistan-1',\n",
       " 'http://127.0.0.1:8000/places/default/view/Aland-Islands-2',\n",
       " 'http://127.0.0.1:8000/places/default/view/Albania-3',\n",
       " 'http://127.0.0.1:8000/places/default/view/Algeria-4',\n",
       " 'http://127.0.0.1:8000/places/default/view/American-Samoa-5',\n",
       " 'http://127.0.0.1:8000/places/default/view/Andorra-6',\n",
       " 'http://127.0.0.1:8000/places/default/view/Angola-7',\n",
       " 'http://127.0.0.1:8000/places/default/view/Anguilla-8',\n",
       " 'http://127.0.0.1:8000/places/default/view/Antarctica-9',\n",
       " 'http://127.0.0.1:8000/places/default/view/Antigua-and-Barbuda-10',\n",
       " 'http://127.0.0.1:8000/places/default/view/Argentina-11',\n",
       " 'http://127.0.0.1:8000/places/default/view/Armenia-12',\n",
       " 'http://127.0.0.1:8000/places/default/view/Aruba-13',\n",
       " 'http://127.0.0.1:8000/places/default/view/Australia-14',\n",
       " 'http://127.0.0.1:8000/places/default/view/Austria-15',\n",
       " 'http://127.0.0.1:8000/places/default/view/Azerbaijan-16',\n",
       " 'http://127.0.0.1:8000/places/default/view/Bahamas-17',\n",
       " 'http://127.0.0.1:8000/places/default/view/Bahrain-18',\n",
       " 'http://127.0.0.1:8000/places/default/view/Bangladesh-19',\n",
       " 'http://127.0.0.1:8000/places/default/view/Barbados-20',\n",
       " 'http://127.0.0.1:8000/places/default/view/Belarus-21',\n",
       " 'http://127.0.0.1:8000/places/default/view/Belgium-22',\n",
       " 'http://127.0.0.1:8000/places/default/view/Belize-23',\n",
       " 'http://127.0.0.1:8000/places/default/view/Benin-24',\n",
       " 'http://127.0.0.1:8000/places/default/view/Bermuda-25',\n",
       " 'http://127.0.0.1:8000/places/default/view/Bhutan-26',\n",
       " 'http://127.0.0.1:8000/places/default/view/Bolivia-27',\n",
       " 'http://127.0.0.1:8000/places/default/view/Bonaire-Saint-Eustatius-and-Saba-28',\n",
       " 'http://127.0.0.1:8000/places/default/view/Bosnia-and-Herzegovina-29',\n",
       " 'http://127.0.0.1:8000/places/default/view/Botswana-30',\n",
       " 'http://127.0.0.1:8000/places/default/view/Bouvet-Island-31',\n",
       " 'http://127.0.0.1:8000/places/default/view/Brazil-32',\n",
       " 'http://127.0.0.1:8000/places/default/view/British-Indian-Ocean-Territory-33',\n",
       " 'http://127.0.0.1:8000/places/default/view/British-Virgin-Islands-34',\n",
       " 'http://127.0.0.1:8000/places/default/view/Brunei-35',\n",
       " 'http://127.0.0.1:8000/places/default/view/Bulgaria-36',\n",
       " 'http://127.0.0.1:8000/places/default/view/Burkina-Faso-37',\n",
       " 'http://127.0.0.1:8000/places/default/view/Burundi-38',\n",
       " 'http://127.0.0.1:8000/places/default/view/Cambodia-39',\n",
       " 'http://127.0.0.1:8000/places/default/view/Cameroon-40',\n",
       " 'http://127.0.0.1:8000/places/default/view/Canada-41',\n",
       " 'http://127.0.0.1:8000/places/default/view/Cape-Verde-42',\n",
       " 'http://127.0.0.1:8000/places/default/view/Cayman-Islands-43',\n",
       " 'http://127.0.0.1:8000/places/default/view/Central-African-Republic-44',\n",
       " 'http://127.0.0.1:8000/places/default/view/Chad-45',\n",
       " 'http://127.0.0.1:8000/places/default/view/Chile-46',\n",
       " 'http://127.0.0.1:8000/places/default/view/China-47',\n",
       " 'http://127.0.0.1:8000/places/default/view/Christmas-Island-48',\n",
       " 'http://127.0.0.1:8000/places/default/view/Cocos-Islands-49',\n",
       " 'http://127.0.0.1:8000/places/default/view/Colombia-50',\n",
       " 'http://127.0.0.1:8000/places/default/view/Comoros-51',\n",
       " 'http://127.0.0.1:8000/places/default/view/Cook-Islands-52',\n",
       " 'http://127.0.0.1:8000/places/default/view/Costa-Rica-53',\n",
       " 'http://127.0.0.1:8000/places/default/view/Croatia-54',\n",
       " 'http://127.0.0.1:8000/places/default/view/Cuba-55',\n",
       " 'http://127.0.0.1:8000/places/default/view/Curacao-56',\n",
       " 'http://127.0.0.1:8000/places/default/view/Cyprus-57',\n",
       " 'http://127.0.0.1:8000/places/default/view/Czech-Republic-58',\n",
       " 'http://127.0.0.1:8000/places/default/view/Democratic-Republic-of-the-Congo-59',\n",
       " 'http://127.0.0.1:8000/places/default/view/Denmark-60',\n",
       " 'http://127.0.0.1:8000/places/default/view/Djibouti-61',\n",
       " 'http://127.0.0.1:8000/places/default/view/Dominica-62',\n",
       " 'http://127.0.0.1:8000/places/default/view/Dominican-Republic-63',\n",
       " 'http://127.0.0.1:8000/places/default/view/East-Timor-64',\n",
       " 'http://127.0.0.1:8000/places/default/view/Ecuador-65',\n",
       " 'http://127.0.0.1:8000/places/default/view/Egypt-66',\n",
       " 'http://127.0.0.1:8000/places/default/view/El-Salvador-67',\n",
       " 'http://127.0.0.1:8000/places/default/view/Equatorial-Guinea-68',\n",
       " 'http://127.0.0.1:8000/places/default/view/Eritrea-69',\n",
       " 'http://127.0.0.1:8000/places/default/view/Estonia-70',\n",
       " 'http://127.0.0.1:8000/places/default/view/Ethiopia-71',\n",
       " 'http://127.0.0.1:8000/places/default/view/Falkland-Islands-72',\n",
       " 'http://127.0.0.1:8000/places/default/view/Faroe-Islands-73',\n",
       " 'http://127.0.0.1:8000/places/default/view/Fiji-74',\n",
       " 'http://127.0.0.1:8000/places/default/view/Finland-75',\n",
       " 'http://127.0.0.1:8000/places/default/view/France-76',\n",
       " 'http://127.0.0.1:8000/places/default/view/French-Guiana-77',\n",
       " 'http://127.0.0.1:8000/places/default/view/French-Polynesia-78',\n",
       " 'http://127.0.0.1:8000/places/default/view/French-Southern-Territories-79',\n",
       " 'http://127.0.0.1:8000/places/default/view/Gabon-80',\n",
       " 'http://127.0.0.1:8000/places/default/view/Gambia-81',\n",
       " 'http://127.0.0.1:8000/places/default/view/Georgia-82',\n",
       " 'http://127.0.0.1:8000/places/default/view/Germany-83',\n",
       " 'http://127.0.0.1:8000/places/default/view/Ghana-84',\n",
       " 'http://127.0.0.1:8000/places/default/view/Gibraltar-85',\n",
       " 'http://127.0.0.1:8000/places/default/view/Greece-86',\n",
       " 'http://127.0.0.1:8000/places/default/view/Greenland-87',\n",
       " 'http://127.0.0.1:8000/places/default/view/Grenada-88',\n",
       " 'http://127.0.0.1:8000/places/default/view/Guadeloupe-89',\n",
       " 'http://127.0.0.1:8000/places/default/view/Guam-90',\n",
       " 'http://127.0.0.1:8000/places/default/view/Guatemala-91',\n",
       " 'http://127.0.0.1:8000/places/default/view/Guernsey-92',\n",
       " 'http://127.0.0.1:8000/places/default/view/Guinea-93',\n",
       " 'http://127.0.0.1:8000/places/default/view/Guinea-Bissau-94',\n",
       " 'http://127.0.0.1:8000/places/default/view/Guyana-95',\n",
       " 'http://127.0.0.1:8000/places/default/view/Haiti-96',\n",
       " 'http://127.0.0.1:8000/places/default/view/Heard-Island-and-McDonald-Islands-97',\n",
       " 'http://127.0.0.1:8000/places/default/view/Honduras-98',\n",
       " 'http://127.0.0.1:8000/places/default/view/Hong-Kong-99',\n",
       " 'http://127.0.0.1:8000/places/default/view/Hungary-100',\n",
       " 'http://127.0.0.1:8000/places/default/view/Iceland-101',\n",
       " 'http://127.0.0.1:8000/places/default/view/India-102',\n",
       " 'http://127.0.0.1:8000/places/default/view/Indonesia-103',\n",
       " 'http://127.0.0.1:8000/places/default/view/Iran-104',\n",
       " 'http://127.0.0.1:8000/places/default/view/Iraq-105',\n",
       " 'http://127.0.0.1:8000/places/default/view/Ireland-106',\n",
       " 'http://127.0.0.1:8000/places/default/view/Isle-of-Man-107',\n",
       " 'http://127.0.0.1:8000/places/default/view/Israel-108',\n",
       " 'http://127.0.0.1:8000/places/default/view/Italy-109',\n",
       " 'http://127.0.0.1:8000/places/default/view/Ivory-Coast-110',\n",
       " 'http://127.0.0.1:8000/places/default/view/Jamaica-111',\n",
       " 'http://127.0.0.1:8000/places/default/view/Japan-112',\n",
       " 'http://127.0.0.1:8000/places/default/view/Jersey-113',\n",
       " 'http://127.0.0.1:8000/places/default/view/Jordan-114',\n",
       " 'http://127.0.0.1:8000/places/default/view/Kazakhstan-115',\n",
       " 'http://127.0.0.1:8000/places/default/view/Kenya-116',\n",
       " 'http://127.0.0.1:8000/places/default/view/Kiribati-117',\n",
       " 'http://127.0.0.1:8000/places/default/view/Kosovo-118',\n",
       " 'http://127.0.0.1:8000/places/default/view/Kuwait-119',\n",
       " 'http://127.0.0.1:8000/places/default/view/Kyrgyzstan-120',\n",
       " 'http://127.0.0.1:8000/places/default/view/Laos-121',\n",
       " 'http://127.0.0.1:8000/places/default/view/Latvia-122',\n",
       " 'http://127.0.0.1:8000/places/default/view/Lebanon-123',\n",
       " 'http://127.0.0.1:8000/places/default/view/Lesotho-124',\n",
       " 'http://127.0.0.1:8000/places/default/view/Liberia-125',\n",
       " 'http://127.0.0.1:8000/places/default/view/Libya-126',\n",
       " 'http://127.0.0.1:8000/places/default/view/Liechtenstein-127',\n",
       " 'http://127.0.0.1:8000/places/default/view/Lithuania-128',\n",
       " 'http://127.0.0.1:8000/places/default/view/Luxembourg-129',\n",
       " 'http://127.0.0.1:8000/places/default/view/Macao-130',\n",
       " 'http://127.0.0.1:8000/places/default/view/Macedonia-131',\n",
       " 'http://127.0.0.1:8000/places/default/view/Madagascar-132',\n",
       " 'http://127.0.0.1:8000/places/default/view/Malawi-133',\n",
       " 'http://127.0.0.1:8000/places/default/view/Malaysia-134',\n",
       " 'http://127.0.0.1:8000/places/default/view/Maldives-135',\n",
       " 'http://127.0.0.1:8000/places/default/view/Mali-136',\n",
       " 'http://127.0.0.1:8000/places/default/view/Malta-137',\n",
       " 'http://127.0.0.1:8000/places/default/view/Marshall-Islands-138',\n",
       " 'http://127.0.0.1:8000/places/default/view/Martinique-139',\n",
       " 'http://127.0.0.1:8000/places/default/view/Mauritania-140',\n",
       " 'http://127.0.0.1:8000/places/default/view/Mauritius-141',\n",
       " 'http://127.0.0.1:8000/places/default/view/Mayotte-142',\n",
       " 'http://127.0.0.1:8000/places/default/view/Mexico-143',\n",
       " 'http://127.0.0.1:8000/places/default/view/Micronesia-144',\n",
       " 'http://127.0.0.1:8000/places/default/view/Moldova-145',\n",
       " 'http://127.0.0.1:8000/places/default/view/Monaco-146',\n",
       " 'http://127.0.0.1:8000/places/default/view/Mongolia-147',\n",
       " 'http://127.0.0.1:8000/places/default/view/Montenegro-148',\n",
       " 'http://127.0.0.1:8000/places/default/view/Montserrat-149',\n",
       " 'http://127.0.0.1:8000/places/default/view/Morocco-150',\n",
       " 'http://127.0.0.1:8000/places/default/view/Mozambique-151',\n",
       " 'http://127.0.0.1:8000/places/default/view/Myanmar-152',\n",
       " 'http://127.0.0.1:8000/places/default/view/Namibia-153',\n",
       " 'http://127.0.0.1:8000/places/default/view/Nauru-154',\n",
       " 'http://127.0.0.1:8000/places/default/view/Nepal-155',\n",
       " 'http://127.0.0.1:8000/places/default/view/Netherlands-156',\n",
       " 'http://127.0.0.1:8000/places/default/view/Netherlands-Antilles-157',\n",
       " 'http://127.0.0.1:8000/places/default/view/New-Caledonia-158',\n",
       " 'http://127.0.0.1:8000/places/default/view/New-Zealand-159',\n",
       " 'http://127.0.0.1:8000/places/default/view/Nicaragua-160',\n",
       " 'http://127.0.0.1:8000/places/default/view/Niger-161',\n",
       " 'http://127.0.0.1:8000/places/default/view/Nigeria-162',\n",
       " 'http://127.0.0.1:8000/places/default/view/Niue-163',\n",
       " 'http://127.0.0.1:8000/places/default/view/Norfolk-Island-164',\n",
       " 'http://127.0.0.1:8000/places/default/view/North-Korea-165',\n",
       " 'http://127.0.0.1:8000/places/default/view/Northern-Mariana-Islands-166',\n",
       " 'http://127.0.0.1:8000/places/default/view/Norway-167',\n",
       " 'http://127.0.0.1:8000/places/default/view/Oman-168',\n",
       " 'http://127.0.0.1:8000/places/default/view/Pakistan-169',\n",
       " 'http://127.0.0.1:8000/places/default/view/Palau-170',\n",
       " 'http://127.0.0.1:8000/places/default/view/Palestinian-Territory-171',\n",
       " 'http://127.0.0.1:8000/places/default/view/Panama-172',\n",
       " 'http://127.0.0.1:8000/places/default/view/Papua-New-Guinea-173',\n",
       " 'http://127.0.0.1:8000/places/default/view/Paraguay-174',\n",
       " 'http://127.0.0.1:8000/places/default/view/Peru-175',\n",
       " 'http://127.0.0.1:8000/places/default/view/Philippines-176',\n",
       " 'http://127.0.0.1:8000/places/default/view/Pitcairn-177',\n",
       " 'http://127.0.0.1:8000/places/default/view/Poland-178',\n",
       " 'http://127.0.0.1:8000/places/default/view/Portugal-179',\n",
       " 'http://127.0.0.1:8000/places/default/view/Puerto-Rico-180',\n",
       " 'http://127.0.0.1:8000/places/default/view/Qatar-181',\n",
       " 'http://127.0.0.1:8000/places/default/view/Republic-of-the-Congo-182',\n",
       " 'http://127.0.0.1:8000/places/default/view/Reunion-183',\n",
       " 'http://127.0.0.1:8000/places/default/view/Romania-184',\n",
       " 'http://127.0.0.1:8000/places/default/view/Russia-185',\n",
       " 'http://127.0.0.1:8000/places/default/view/Rwanda-186',\n",
       " 'http://127.0.0.1:8000/places/default/view/Saint-Barthelemy-187',\n",
       " 'http://127.0.0.1:8000/places/default/view/Saint-Helena-188',\n",
       " 'http://127.0.0.1:8000/places/default/view/Saint-Kitts-and-Nevis-189',\n",
       " 'http://127.0.0.1:8000/places/default/view/Saint-Lucia-190',\n",
       " 'http://127.0.0.1:8000/places/default/view/Saint-Martin-191',\n",
       " 'http://127.0.0.1:8000/places/default/view/Saint-Pierre-and-Miquelon-192',\n",
       " 'http://127.0.0.1:8000/places/default/view/Saint-Vincent-and-the-Grenadines-193',\n",
       " 'http://127.0.0.1:8000/places/default/view/Samoa-194',\n",
       " 'http://127.0.0.1:8000/places/default/view/San-Marino-195',\n",
       " 'http://127.0.0.1:8000/places/default/view/Sao-Tome-and-Principe-196',\n",
       " 'http://127.0.0.1:8000/places/default/view/Saudi-Arabia-197',\n",
       " 'http://127.0.0.1:8000/places/default/view/Senegal-198',\n",
       " 'http://127.0.0.1:8000/places/default/view/Serbia-199',\n",
       " 'http://127.0.0.1:8000/places/default/view/Serbia-and-Montenegro-200',\n",
       " 'http://127.0.0.1:8000/places/default/view/Seychelles-201',\n",
       " 'http://127.0.0.1:8000/places/default/view/Sierra-Leone-202',\n",
       " 'http://127.0.0.1:8000/places/default/view/Singapore-203',\n",
       " 'http://127.0.0.1:8000/places/default/view/Sint-Maarten-204',\n",
       " 'http://127.0.0.1:8000/places/default/view/Slovakia-205',\n",
       " 'http://127.0.0.1:8000/places/default/view/Slovenia-206',\n",
       " 'http://127.0.0.1:8000/places/default/view/Solomon-Islands-207',\n",
       " 'http://127.0.0.1:8000/places/default/view/Somalia-208',\n",
       " 'http://127.0.0.1:8000/places/default/view/South-Africa-209',\n",
       " 'http://127.0.0.1:8000/places/default/view/South-Georgia-and-the-South-Sandwich-Islands-210',\n",
       " 'http://127.0.0.1:8000/places/default/view/South-Korea-211',\n",
       " 'http://127.0.0.1:8000/places/default/view/South-Sudan-212',\n",
       " 'http://127.0.0.1:8000/places/default/view/Spain-213',\n",
       " 'http://127.0.0.1:8000/places/default/view/Sri-Lanka-214',\n",
       " 'http://127.0.0.1:8000/places/default/view/Sudan-215',\n",
       " 'http://127.0.0.1:8000/places/default/view/Suriname-216',\n",
       " 'http://127.0.0.1:8000/places/default/view/Svalbard-and-Jan-Mayen-217',\n",
       " 'http://127.0.0.1:8000/places/default/view/Swaziland-218',\n",
       " 'http://127.0.0.1:8000/places/default/view/Sweden-219',\n",
       " 'http://127.0.0.1:8000/places/default/view/Switzerland-220',\n",
       " 'http://127.0.0.1:8000/places/default/view/Syria-221',\n",
       " 'http://127.0.0.1:8000/places/default/view/Taiwan-222',\n",
       " 'http://127.0.0.1:8000/places/default/view/Tajikistan-223',\n",
       " 'http://127.0.0.1:8000/places/default/view/Tanzania-224',\n",
       " 'http://127.0.0.1:8000/places/default/view/Thailand-225',\n",
       " 'http://127.0.0.1:8000/places/default/view/Togo-226',\n",
       " 'http://127.0.0.1:8000/places/default/view/Tokelau-227',\n",
       " 'http://127.0.0.1:8000/places/default/view/Tonga-228',\n",
       " 'http://127.0.0.1:8000/places/default/view/Trinidad-and-Tobago-229',\n",
       " 'http://127.0.0.1:8000/places/default/view/Tunisia-230',\n",
       " 'http://127.0.0.1:8000/places/default/view/Turkey-231',\n",
       " 'http://127.0.0.1:8000/places/default/view/Turkmenistan-232',\n",
       " 'http://127.0.0.1:8000/places/default/view/Turks-and-Caicos-Islands-233',\n",
       " 'http://127.0.0.1:8000/places/default/view/Tuvalu-234',\n",
       " 'http://127.0.0.1:8000/places/default/view/US-Virgin-Islands-235',\n",
       " 'http://127.0.0.1:8000/places/default/view/Uganda-236',\n",
       " 'http://127.0.0.1:8000/places/default/view/Ukraine-237',\n",
       " 'http://127.0.0.1:8000/places/default/view/United-Arab-Emirates-238',\n",
       " 'http://127.0.0.1:8000/places/default/view/United-Kingdom-239',\n",
       " 'http://127.0.0.1:8000/places/default/view/United-States-240',\n",
       " 'http://127.0.0.1:8000/places/default/view/United-States-Minor-Outlying-Islands-241',\n",
       " 'http://127.0.0.1:8000/places/default/view/Uruguay-242',\n",
       " 'http://127.0.0.1:8000/places/default/view/Uzbekistan-243',\n",
       " 'http://127.0.0.1:8000/places/default/view/Vanuatu-244',\n",
       " 'http://127.0.0.1:8000/places/default/view/Vatican-245',\n",
       " 'http://127.0.0.1:8000/places/default/view/Venezuela-246',\n",
       " 'http://127.0.0.1:8000/places/default/view/Vietnam-247',\n",
       " 'http://127.0.0.1:8000/places/default/view/Wallis-and-Futuna-248',\n",
       " 'http://127.0.0.1:8000/places/default/view/Western-Sahara-249',\n",
       " 'http://127.0.0.1:8000/places/default/view/Yemen-250',\n",
       " 'http://127.0.0.1:8000/places/default/view/Zambia-251',\n",
       " 'http://127.0.0.1:8000/places/default/view/Zimbabwe-252']"
      ]
     },
     "execution_count": 2,
     "metadata": {},
     "output_type": "execute_result"
    }
   ],
   "source": [
    "response = requests.get(url=r'http://127.0.0.1:8000/places/default/sitemap.xml')\n",
    "xml=response.content.decode()\n",
    "re.findall(r'<loc>(.*?)<', xml) #list of URLs"
   ]
  },
  {
   "cell_type": "markdown",
   "metadata": {},
   "source": [
    "# Aprendendo bs4 \n"
   ]
  },
  {
   "cell_type": "code",
   "execution_count": 3,
   "metadata": {},
   "outputs": [],
   "source": [
    "html_doc = \"\"\"<html><head><title>The Dormouse's story</title></head>\n",
    "<body>\n",
    "<p class=\"title\"><b>The Dormouse's story</b></p>\n",
    "\n",
    "<p class=\"story\">Once upon a time there were three little sisters; and their names were\n",
    "<a href=\"http://example.com/elsie\" class=\"sister\" id=\"link1\">Elsie</a>,\n",
    "<a href=\"http://example.com/lacie\" class=\"sister\" id=\"link2\">Lacie</a> and\n",
    "<a href=\"http://example.com/tillie\" class=\"sister\" id=\"link3\">Tillie</a>;\n",
    "and they lived at the bottom of a well.</p>\n",
    "\n",
    "<p class=\"story\">...</p>\n",
    "\"\"\""
   ]
  },
  {
   "cell_type": "code",
   "execution_count": 6,
   "metadata": {},
   "outputs": [
    {
     "data": {
      "text/plain": [
       "bs4.BeautifulSoup"
      ]
     },
     "execution_count": 6,
     "metadata": {},
     "output_type": "execute_result"
    }
   ],
   "source": [
    "soup = BeautifulSoup(html_doc)\n",
    "type(soup)\n",
    "# Objetos:\n",
    "# SOUP\n",
    "# TAG -> corresponde a uma tag do documento html ou xml\n",
    "# NAME -> Toda tag possui um nome\n",
    "# ATTRIBUTES -> Tags podem possuir um ou mais atributos\n"
   ]
  },
  {
   "cell_type": "code",
   "execution_count": 10,
   "metadata": {},
   "outputs": [
    {
     "data": {
      "text/plain": [
       "<p class=\"title\"><b>The Dormouse's story</b></p>"
      ]
     },
     "execution_count": 10,
     "metadata": {},
     "output_type": "execute_result"
    }
   ],
   "source": [
    "soup.body.p "
   ]
  },
  {
   "cell_type": "code",
   "execution_count": 17,
   "metadata": {},
   "outputs": [
    {
     "name": "stdout",
     "output_type": "stream",
     "text": [
      "<class 'str'>\n"
     ]
    },
    {
     "data": {
      "text/plain": [
       "list"
      ]
     },
     "execution_count": 17,
     "metadata": {},
     "output_type": "execute_result"
    }
   ],
   "source": [
    "#print(soup.prettifyt())\n",
    "print(type(soup.p.b.text))\n",
    "type(soup.body.a['class'])"
   ]
  },
  {
   "cell_type": "code",
   "execution_count": 29,
   "metadata": {},
   "outputs": [
    {
     "name": "stdout",
     "output_type": "stream",
     "text": [
      "<title>The Dormouse's story</title>\n",
      "The Dormouse's story\n",
      "------------------\n"
     ]
    },
    {
     "data": {
      "text/plain": [
       "\"The Dormouse's story\""
      ]
     },
     "execution_count": 29,
     "metadata": {},
     "output_type": "execute_result"
    }
   ],
   "source": [
    "soup.head.contents\n",
    "soup.body.contents\n",
    "for c in soup.head.descendants: #acessa filhos\n",
    "    print(c)\n",
    "print('------------------')\n",
    "soup.head.title.string"
   ]
  },
  {
   "cell_type": "code",
   "execution_count": 48,
   "metadata": {},
   "outputs": [
    {
     "name": "stdout",
     "output_type": "stream",
     "text": [
      "<class 'bs4.element.NavigableString'>\n",
      "<class 'str'>\n",
      "----------------------------------------\n"
     ]
    },
    {
     "data": {
      "text/plain": [
       "[<p class=\"story\">Once upon a time there were three little sisters; and their names were\n",
       " <a class=\"sister\" href=\"http://example.com/elsie\" id=\"link1\">Elsie</a>,\n",
       " <a class=\"sister\" href=\"http://example.com/lacie\" id=\"link2\">Lacie</a> and\n",
       " <a class=\"sister\" href=\"http://example.com/tillie\" id=\"link3\">Tillie</a>;\n",
       " and they lived at the bottom of a well.</p>,\n",
       " <p class=\"story\">...</p>]"
      ]
     },
     "execution_count": 48,
     "metadata": {},
     "output_type": "execute_result"
    }
   ],
   "source": [
    "soup.body.a.next_sibling.next_sibling\n",
    "\n",
    "# é importante as vezes transformar o elemento tag.string em string primitivo\n",
    "# para não enviar todo o objeto HTML para a variável e às funções\n",
    "conteudo = soup.body.b.string\n",
    "print(type(conteudo))\n",
    "print(type(str(conteudo)))\n",
    "print(20*'--')\n",
    "soup.findAll('a')\n",
    "\n",
    "#for tag in soup.findAll(re.compile(\"^b\")):\n",
    "#    print(tag)\n",
    "    \n",
    "#for tag in soup.find_all(True):\n",
    "#    print(tag)\n",
    "\n",
    "\n",
    "\n",
    "# Inputs de find_all -> se class, deve ser class_\n",
    "soup.findAll(class_='story')"
   ]
  },
  {
   "cell_type": "code",
   "execution_count": 49,
   "metadata": {},
   "outputs": [
    {
     "data": {
      "text/plain": [
       "[<a class=\"sister\" href=\"http://example.com/elsie\" id=\"link1\">Elsie</a>,\n",
       " <a class=\"sister\" href=\"http://example.com/lacie\" id=\"link2\">Lacie</a>,\n",
       " <a class=\"sister\" href=\"http://example.com/tillie\" id=\"link3\">Tillie</a>]"
      ]
     },
     "execution_count": 49,
     "metadata": {},
     "output_type": "execute_result"
    }
   ],
   "source": [
    "    \"\"\"\n",
    "    a) Todas as tags da classe story\n",
    "    b) Tag com id =link2 e suas irmãs subsequentes\n",
    "    \"\"\"\n",
    "    \n",
    "    # a)\n",
    "    soup.findAll(class_='sister')"
   ]
  },
  {
   "cell_type": "code",
   "execution_count": 66,
   "metadata": {},
   "outputs": [
    {
     "data": {
      "text/plain": [
       "[' and\\n',\n",
       " <a class=\"sister\" href=\"http://example.com/tillie\" id=\"link3\">Tillie</a>,\n",
       " ';\\nand they lived at the bottom of a well.']"
      ]
     },
     "execution_count": 66,
     "metadata": {},
     "output_type": "execute_result"
    }
   ],
   "source": [
    "# b)\n",
    "tag_link2= soup.find(id='link2')\n",
    "list(tag_link2.next_siblings)"
   ]
  },
  {
   "cell_type": "code",
   "execution_count": null,
   "metadata": {},
   "outputs": [],
   "source": []
  }
 ],
 "metadata": {
  "kernelspec": {
   "display_name": "cpa",
   "language": "python",
   "name": "python3"
  },
  "language_info": {
   "codemirror_mode": {
    "name": "ipython",
    "version": 3
   },
   "file_extension": ".py",
   "mimetype": "text/x-python",
   "name": "python",
   "nbconvert_exporter": "python",
   "pygments_lexer": "ipython3",
   "version": "3.10.9"
  },
  "orig_nbformat": 4
 },
 "nbformat": 4,
 "nbformat_minor": 2
}
