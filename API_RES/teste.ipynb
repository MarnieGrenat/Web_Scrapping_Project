{
 "cells": [
  {
   "cell_type": "markdown",
   "metadata": {},
   "source": [
    "# API REST"
   ]
  },
  {
   "cell_type": "code",
   "execution_count": 2,
   "metadata": {},
   "outputs": [],
   "source": [
    "# Imports\n",
    "import requests"
   ]
  },
  {
   "cell_type": "code",
   "execution_count": 8,
   "metadata": {},
   "outputs": [
    {
     "name": "stdout",
     "output_type": "stream",
     "text": [
      "{\n",
      "    \"name\": \"Estados Unidos\",\n",
      "    \"population\": 20000000\n",
      "}\n",
      "\n"
     ]
    }
   ],
   "source": [
    "rsp=requests.get(r\"http://127.0.0.1:5000/country/2\")\n",
    "print(rsp.content.decode())"
   ]
  },
  {
   "cell_type": "code",
   "execution_count": 14,
   "metadata": {},
   "outputs": [],
   "source": [
    "rsp=requests.delete(r\"http://127.0.0.1:5000/country/3\")\n",
    "#print(rsp.content.decode())"
   ]
  },
  {
   "cell_type": "code",
   "execution_count": 13,
   "metadata": {},
   "outputs": [
    {
     "data": {
      "text/plain": [
       "<Response [201]>"
      ]
     },
     "execution_count": 13,
     "metadata": {},
     "output_type": "execute_result"
    }
   ],
   "source": [
    "pais= {\n",
    "    \"name\" : \"Belgica\",\n",
    "    \"population\": 200000\n",
    "}\n",
    "#put atualiza um pais q ja existe\n",
    "#post cria um novo valor (pais)\n",
    "requests.post(r\"http://127.0.0.1:5000/country\", json=pais)"
   ]
  },
  {
   "cell_type": "code",
   "execution_count": null,
   "metadata": {},
   "outputs": [],
   "source": []
  }
 ],
 "metadata": {
  "kernelspec": {
   "display_name": "cpa",
   "language": "python",
   "name": "python3"
  },
  "language_info": {
   "codemirror_mode": {
    "name": "ipython",
    "version": 3
   },
   "file_extension": ".py",
   "mimetype": "text/x-python",
   "name": "python",
   "nbconvert_exporter": "python",
   "pygments_lexer": "ipython3",
   "version": "3.10.10"
  },
  "orig_nbformat": 4,
  "vscode": {
   "interpreter": {
    "hash": "0fe4cc43e60eb6a51a076301010f33b45f25eae61cdfa03646463cdd2b225715"
   }
  }
 },
 "nbformat": 4,
 "nbformat_minor": 2
}
